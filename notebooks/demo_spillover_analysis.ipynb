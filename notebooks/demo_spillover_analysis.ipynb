{
  "cells": [
    {
      "cell_type": "markdown",
      "metadata": {},
      "source": [
        "# Sistema de Análise de Spillovers Econômicos Brasil-Mundo\n",
        "## Fase 1: VAR + Neural Enhancement com Validação Científica\n",
        "\n",
        "Este notebook demonstra o funcionamento do sistema de análise de spillovers econômicos.\n"
      ]
    }
  ],
  "metadata": {
    "language_info": {
      "name": "python"
    }
  },
  "nbformat": 4,
  "nbformat_minor": 2
}
